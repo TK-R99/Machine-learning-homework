{
 "cells": [
  {
   "cell_type": "code",
   "execution_count": 1,
   "metadata": {},
   "outputs": [],
   "source": [
    "import numpy as np\n",
    "from matplotlib import pyplot as plt\n",
    "from sklearn.model_selection import train_test_split"
   ]
  },
  {
   "cell_type": "code",
   "execution_count": 2,
   "metadata": {},
   "outputs": [
    {
     "name": "stdout",
     "output_type": "stream",
     "text": [
      "float64\n",
      "[[2.10400e+03 3.00000e+00 3.99900e+05]\n",
      " [1.60000e+03 3.00000e+00 3.29900e+05]\n",
      " [2.40000e+03 3.00000e+00 3.69000e+05]\n",
      " [1.41600e+03 2.00000e+00 2.32000e+05]\n",
      " [3.00000e+03 4.00000e+00 5.39900e+05]\n",
      " [1.98500e+03 4.00000e+00 2.99900e+05]\n",
      " [1.53400e+03 3.00000e+00 3.14900e+05]\n",
      " [1.42700e+03 3.00000e+00 1.98999e+05]\n",
      " [1.38000e+03 3.00000e+00 2.12000e+05]\n",
      " [1.49400e+03 3.00000e+00 2.42500e+05]\n",
      " [1.94000e+03 4.00000e+00 2.39999e+05]\n",
      " [2.00000e+03 3.00000e+00 3.47000e+05]\n",
      " [1.89000e+03 3.00000e+00 3.29999e+05]\n",
      " [4.47800e+03 5.00000e+00 6.99900e+05]\n",
      " [1.26800e+03 3.00000e+00 2.59900e+05]\n",
      " [2.30000e+03 4.00000e+00 4.49900e+05]\n",
      " [1.32000e+03 2.00000e+00 2.99900e+05]\n",
      " [1.23600e+03 3.00000e+00 1.99900e+05]\n",
      " [2.60900e+03 4.00000e+00 4.99998e+05]\n",
      " [3.03100e+03 4.00000e+00 5.99000e+05]\n",
      " [1.76700e+03 3.00000e+00 2.52900e+05]\n",
      " [1.88800e+03 2.00000e+00 2.55000e+05]\n",
      " [1.60400e+03 3.00000e+00 2.42900e+05]\n",
      " [1.96200e+03 4.00000e+00 2.59900e+05]\n",
      " [3.89000e+03 3.00000e+00 5.73900e+05]\n",
      " [1.10000e+03 3.00000e+00 2.49900e+05]\n",
      " [1.45800e+03 3.00000e+00 4.64500e+05]\n",
      " [2.52600e+03 3.00000e+00 4.69000e+05]\n",
      " [2.20000e+03 3.00000e+00 4.75000e+05]\n",
      " [2.63700e+03 3.00000e+00 2.99900e+05]\n",
      " [1.83900e+03 2.00000e+00 3.49900e+05]\n",
      " [1.00000e+03 1.00000e+00 1.69900e+05]\n",
      " [2.04000e+03 4.00000e+00 3.14900e+05]\n",
      " [3.13700e+03 3.00000e+00 5.79900e+05]\n",
      " [1.81100e+03 4.00000e+00 2.85900e+05]\n",
      " [1.43700e+03 3.00000e+00 2.49900e+05]\n",
      " [1.23900e+03 3.00000e+00 2.29900e+05]\n",
      " [2.13200e+03 4.00000e+00 3.45000e+05]\n",
      " [4.21500e+03 4.00000e+00 5.49000e+05]\n",
      " [2.16200e+03 4.00000e+00 2.87000e+05]\n",
      " [1.66400e+03 2.00000e+00 3.68500e+05]\n",
      " [2.23800e+03 3.00000e+00 3.29900e+05]\n",
      " [2.56700e+03 4.00000e+00 3.14000e+05]\n",
      " [1.20000e+03 3.00000e+00 2.99000e+05]\n",
      " [8.52000e+02 2.00000e+00 1.79900e+05]\n",
      " [1.85200e+03 4.00000e+00 2.99900e+05]\n",
      " [1.20300e+03 3.00000e+00 2.39500e+05]]\n"
     ]
    },
    {
     "data": {
      "text/plain": [
       "32.9"
      ]
     },
     "execution_count": 2,
     "metadata": {},
     "output_type": "execute_result"
    }
   ],
   "source": [
    "# loading data\n",
    "data = np.loadtxt('data1.txt',delimiter=',')\n",
    "# npy: np.load_npy\n",
    "# excel: pd.read_excel\n",
    "# csv: pd.read_csv\n",
    "print(data.dtype)\n",
    "# print(data.shape)\n",
    "num_feature = data.shape[1] - 1\n",
    "data = data.astype('float32')\n",
    "print(data)\n",
    "47*0.7\n",
    "\n",
    "# tuple"
   ]
  },
  {
   "cell_type": "code",
   "execution_count": 3,
   "metadata": {},
   "outputs": [],
   "source": [
    "# data normalization\n",
    "# data_norm = data.copy()\n",
    "# maximum = np.max(data_norm,axis=0,keepdims=True)\n",
    "# print(maximum)\n",
    "# minimun = np.min(data_norm,axis=0,keepdims=True)\n",
    "# data_norm = (data_norm - minimun)/(maximum - minimun)\n",
    "# print(data_norm)"
   ]
  },
  {
   "cell_type": "code",
   "execution_count": 4,
   "metadata": {},
   "outputs": [
    {
     "name": "stdout",
     "output_type": "stream",
     "text": [
      "[[1.         1.         1.        ]\n",
      " [0.10590182 0.5        1.        ]\n",
      " [0.         0.25       1.        ]\n",
      " [0.39933813 0.75       1.        ]\n",
      " [0.1770546  0.5        1.        ]\n",
      " [0.12906784 0.25       1.        ]\n",
      " [0.49227798 0.5        1.        ]\n",
      " [0.32763377 0.75       1.        ]\n",
      " [0.27578598 0.75       1.        ]\n",
      " [0.34528404 0.5        1.        ]\n",
      " [0.04081633 0.         1.        ]\n",
      " [0.27220076 0.25       1.        ]\n",
      " [0.31246552 0.75       1.        ]\n",
      " [0.31660232 0.5        1.        ]\n",
      " [0.26447877 0.75       1.        ]\n",
      " [0.20628792 0.5        1.        ]\n",
      " [0.38223937 0.5        1.        ]\n",
      " [0.2857143  0.25       1.        ]\n",
      " [0.42691672 0.5        1.        ]\n",
      " [0.1613348  0.5        1.        ]\n",
      " [0.30612245 0.75       1.        ]\n",
      " [0.35300606 0.75       1.        ]\n",
      " [0.30005515 0.75       1.        ]\n",
      " [0.20739107 0.5        1.        ]\n",
      " [0.48455599 0.75       1.        ]\n",
      " [0.09680089 0.5        1.        ]\n",
      " [0.25234419 0.5        1.        ]\n",
      " [0.15857695 0.5        1.        ]\n",
      " [0.47297296 0.75       1.        ]\n",
      " [0.11472698 0.5        1.        ]\n",
      " [0.3717595  0.5        1.        ]\n",
      " [0.9274683  0.75       1.        ]]\n"
     ]
    }
   ],
   "source": [
    "# train val split\n",
    "data_train, data_test = train_test_split(data, test_size=0.3, random_state=42)\n",
    "\n",
    "# data normalization\n",
    "\n",
    "data_norm = data_train.copy()\n",
    "maximum = np.max(data_norm,axis=0,keepdims=True)\n",
    "# print(maximum)\n",
    "minimun = np.min(data_norm,axis=0,keepdims=True)\n",
    "\n",
    "data_train = (data_train - minimun)/(maximum - minimun)\n",
    "data_test = (data_test - minimun)/(maximum - minimun)\n",
    "\n",
    "X_train = data_train[:, :2]\n",
    "X_train = np.concatenate((X_train, np.ones((X_train.shape[0],1))), axis=1)\n",
    "print(X_train)\n",
    "y_train = data_train[:, 2]\n",
    "X_test = data_test[:, :2]\n",
    "X_test = np.concatenate((X_test, np.ones((X_test.shape[0],1))), axis=1)\n",
    "y_test = data_test[:, 2]"
   ]
  },
  {
   "cell_type": "code",
   "execution_count": null,
   "metadata": {},
   "outputs": [],
   "source": []
  },
  {
   "cell_type": "code",
   "execution_count": 9,
   "metadata": {},
   "outputs": [
    {
     "data": {
      "text/plain": [
       "array([[0.04898996],\n",
       "       [0.385125  ],\n",
       "       [0.57241429]])"
      ]
     },
     "execution_count": 9,
     "metadata": {},
     "output_type": "execute_result"
    }
   ],
   "source": [
    "# model init\n",
    "w = np.random.rand(num_feature+1,1)\n",
    "\n",
    "# gradient descent\n",
    "def L2_loss(y_pred,y):\n",
    "    return np.mean(np.square(y_pred-y))\n",
    "\n",
    "iterations = 100000\n",
    "lr = 0.01\n",
    "a = np.ones((1,1))\n",
    "#print(a.shape)\n",
    "w"
   ]
  },
  {
   "cell_type": "code",
   "execution_count": 6,
   "metadata": {},
   "outputs": [],
   "source": [
    "log = []\n",
    "test_log = []\n",
    "for i in range(iterations):\n",
    "    y_pred = np.matmul(X_train, w)\n",
    "    term = lr*np.mean((y_pred-y_train.reshape(-1,1))*X_train, axis=0).reshape(-1,1) \n",
    "    w -= term\n",
    "    y_test_pred = np.matmul(X_test, w)\n",
    "    loss = L2_loss(y_pred.reshape(-1,1),y_train.reshape(-1,1))\n",
    "    test_loss = L2_loss(y_test_pred.reshape(-1,1),y_test.reshape(-1,1))\n",
    "    if i % 100 == 0:\n",
    "#         print('iter:{},loss:{}'.format(i,loss))\n",
    "        log.append([i,loss])\n",
    "        test_log.append([i,test_loss])"
   ]
  },
  {
   "cell_type": "code",
   "execution_count": null,
   "metadata": {},
   "outputs": [],
   "source": []
  },
  {
   "cell_type": "code",
   "execution_count": 7,
   "metadata": {},
   "outputs": [
    {
     "name": "stdout",
     "output_type": "stream",
     "text": [
      "[[ 0.89707607]\n",
      " [-0.02132246]\n",
      " [ 0.01620799]]\n",
      "[[ 0.89707606]\n",
      " [-0.02132245]\n",
      " [ 0.01620799]]\n"
     ]
    }
   ],
   "source": [
    "# normal eqution\n",
    "term = np.matmul(X_train.T, X_train)\n",
    "term_inv = np.linalg.inv(term)\n",
    "w2 = np.matmul(np.matmul(term_inv,X_train.T),y_train.reshape(-1,1))\n",
    "print(w2)\n",
    "print(w)"
   ]
  },
  {
   "cell_type": "code",
   "execution_count": 8,
   "metadata": {},
   "outputs": [
    {
     "data": {
      "text/plain": [
       "[<matplotlib.lines.Line2D at 0x1a4383d6760>]"
      ]
     },
     "execution_count": 8,
     "metadata": {},
     "output_type": "execute_result"
    },
    {
     "data": {
      "image/png": "[encoded data removed]",
      "text/plain": [
       "<Figure size 640x480 with 1 Axes>"
      ]
     },
     "metadata": {},
     "output_type": "display_data"
    }
   ],
   "source": [
    "# loss curve visualization\n",
    "log = np.array(log)\n",
    "plt.plot(log[:,0],log[:,1])\n"
   ]
  },
  {
   "cell_type": "code",
   "execution_count": 9,
   "metadata": {},
   "outputs": [
    {
     "data": {
      "text/plain": [
       "[<matplotlib.lines.Line2D at 0x1a438408280>]"
      ]
     },
     "execution_count": 9,
     "metadata": {},
     "output_type": "execute_result"
    },
    {
     "data": {
      "image/png": "[encoded data removed]",
      "text/plain": [
       "<Figure size 640x480 with 1 Axes>"
      ]
     },
     "metadata": {},
     "output_type": "display_data"
    }
   ],
   "source": [
    "# loss curve visualization\n",
    "test_log = np.array(test_log)\n",
    "plt.plot(test_log[:,0],test_log[:,1])"
   ]
  },
  {
   "cell_type": "code",
   "execution_count": 10,
   "metadata": {},
   "outputs": [
    {
     "data": {
      "text/plain": [
       "<matplotlib.collections.PathCollection at 0x1a43847aa30>"
      ]
     },
     "execution_count": 10,
     "metadata": {},
     "output_type": "execute_result"
    },
    {
     "data": {
      "image/png": "[encoded data removed]",
      "text/plain": [
       "<Figure size 640x480 with 1 Axes>"
      ]
     },
     "metadata": {},
     "output_type": "display_data"
    }
   ],
   "source": [
    "# visualization\n",
    "y_pred = np.matmul(X_test, w)\n",
    "plt.scatter(X_test[:,0],y_pred,c='r')\n",
    "plt.scatter(X_test[:,0],y_test,c='b')"
   ]
  },
  {
   "cell_type": "code",
   "execution_count": 11,
   "metadata": {},
   "outputs": [
    {
     "data": {
      "text/plain": [
       "<matplotlib.collections.PathCollection at 0x1a43850f700>"
      ]
     },
     "execution_count": 11,
     "metadata": {},
     "output_type": "execute_result"
    },
    {
     "data": {
      "image/png": "[encoded data removed]",
      "text/plain": [
       "<Figure size 640x480 with 1 Axes>"
      ]
     },
     "metadata": {},
     "output_type": "display_data"
    }
   ],
   "source": [
    "plt.scatter(X_test[:,1],y_pred,c='r')\n",
    "plt.scatter(X_test[:,1],y_test,c='b')"
   ]
  },
  {
   "cell_type": "code",
   "execution_count": null,
   "metadata": {},
   "outputs": [],
   "source": []
  },
  {
   "cell_type": "code",
   "execution_count": null,
   "metadata": {},
   "outputs": [],
   "source": []
  }
 ],
 "metadata": {
  "kernelspec": {
   "display_name": "Python 3 (ipykernel)",
   "language": "python",
   "name": "python3"
  },
  "language_info": {
   "codemirror_mode": {
    "name": "ipython",
    "version": 3
   },
   "file_extension": ".py",
   "mimetype": "text/x-python",
   "name": "python",
   "nbconvert_exporter": "python",
   "pygments_lexer": "ipython3",
   "version": "3.9.18"
  }
 },
 "nbformat": 4,
 "nbformat_minor": 2
}
