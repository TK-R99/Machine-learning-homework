{
 "cells": [
  {
   "cell_type": "code",
   "execution_count": 1,
   "id": "9695b053",
   "metadata": {},
   "outputs": [],
   "source": [
    "# 1 加载必要的库\n",
    "\n",
    "import torch\n",
    "import torch.nn as nn\n",
    "import torch.nn.functional as F\n",
    "import torch.optim as optim\n",
    "from torchvision import datasets, transforms"
   ]
  },
  {
   "cell_type": "code",
   "execution_count": 2,
   "id": "95e005f5",
   "metadata": {},
   "outputs": [],
   "source": [
    "# 2 定义超参数\n",
    "\n",
    "BATCH_SIZE = 16 # 每批处理的数据\n",
    "DEVICE = torch.device(\"cuda\" if torch.cuda.is_available() else \"cpu\") # 是否用GPU\n",
    "EPOCHS = 10 # 训练数据的轮次"
   ]
  },
  {
   "cell_type": "code",
   "execution_count": 3,
   "id": "d79f2c64",
   "metadata": {},
   "outputs": [
    {
     "data": {
      "text/plain": [
       "device(type='cpu')"
      ]
     },
     "execution_count": 3,
     "metadata": {},
     "output_type": "execute_result"
    }
   ],
   "source": [
    "DEVICE"
   ]
  },
  {
   "cell_type": "code",
   "execution_count": 4,
   "id": "df080806",
   "metadata": {},
   "outputs": [],
   "source": [
    "# 3 构建pipeline，对图形做处理\n",
    "\n",
    "pipeline = transforms.Compose([\n",
    "    transforms.ToTensor(), # 将图片转换成tensor\n",
    "    transforms.Normalize((0.1307,), (0.3081,)) # 正则化：降低模型复杂度\n",
    "])"
   ]
  },
  {
   "cell_type": "code",
   "execution_count": 5,
   "id": "d177cc1b",
   "metadata": {},
   "outputs": [],
   "source": [
    "# 4 下载、加载数据集\n",
    "\n",
    "from torch.utils.data import DataLoader\n",
    "\n",
    "# 下载数据集\n",
    "\n",
    "train_set = datasets.MNIST(\"data\", train=True, download=True, transform=pipeline)\n",
    "test_set = datasets.MNIST(\"data\", train=False, download=True, transform=pipeline)"
   ]
  },
  {
   "cell_type": "code",
   "execution_count": 6,
   "id": "ea2459ec",
   "metadata": {},
   "outputs": [],
   "source": [
    "# 加载数据集\n",
    "\n",
    "train_loader = DataLoader(train_set, batch_size=BATCH_SIZE, shuffle=True)\n",
    "\n",
    "test_loader = DataLoader(test_set, batch_size=BATCH_SIZE, shuffle=True)"
   ]
  },
  {
   "cell_type": "code",
   "execution_count": 7,
   "id": "487a63da",
   "metadata": {},
   "outputs": [],
   "source": [
    "# 5 构建网络模型\n",
    "\n",
    "class Digit(nn.Module):\n",
    "    def __init__(self):\n",
    "        super().__init__()\n",
    "        self.conv1 = nn.Conv2d(1,10,5) # 1: 灰度图片的通道，10：输出通道，5：kernel\n",
    "        self.conv2 = nn.Conv2d(10,20,3) # 10: 输入通道，20: 输出通道，3: kernel\n",
    "        self.fc1 = nn.Linear(20*10*10, 500) # 20*10*10: 输入通道， 500: 输出通道\n",
    "        self.fc2 = nn.Linear(500, 10) # 500: 输入通道，10:输出通道\n",
    "        \n",
    "    def forward(self, x):\n",
    "        input_size = x.size(0) # batch_size\n",
    "        x = self.conv1(x) # 输入: batch*1*28*28, 输出: batch*10*24*24 （28-5+1）\n",
    "        x = F.relu(x) # 保持shape不变，输出：batch*10*24*24\n",
    "        x = F.max_pool2d(x, 2, 2) # 输入：batch*10*24*24, 输出: batch*10*12*12\n",
    "        x = self.conv2(x) # 输入: batch*10*12*12, 输出: batch*20*10*10\n",
    "        x = F.relu(x) # 保持shape不变，输出：batch*20*10*10\n",
    "        x = x.view(input_size, -1) # 拉平，-1 自动计算维度， 20*10*10=2000\n",
    "        x = self.fc1(x) # 输入: batch*2000, 输出: batch*500\n",
    "        x = F.relu(x) # 保持shape不变，输出: batch*500\n",
    "        x = self.fc2(x) # 输入: batch*500, 输出: 10\n",
    "        output = F.log_softmax(x, dim=1) # 计算分类后，每个数字的概率值\n",
    "        \n",
    "        return output"
   ]
  },
  {
   "cell_type": "code",
   "execution_count": 8,
   "id": "f7dcbcc6",
   "metadata": {},
   "outputs": [],
   "source": [
    "# 6 定义优化器\n",
    "\n",
    "model = Digit().to(DEVICE)\n",
    "\n",
    "optimizer = optim.Adam(model.parameters())"
   ]
  },
  {
   "cell_type": "code",
   "execution_count": 9,
   "id": "d0962675",
   "metadata": {},
   "outputs": [],
   "source": [
    "# 7 定义训练方法\n",
    "\n",
    "def train_model(model, device, train_loader, optimizer, epoch):\n",
    "    model.train()\n",
    "    for batch_index, (data, target) in enumerate(train_loader):\n",
    "        # 部署到device上\n",
    "        data, target = data.to(device), target.to(device)\n",
    "        # 梯度初始化为0\n",
    "        optimizer.zero_grad()\n",
    "        # 训练后的结果\n",
    "        output = model(data)\n",
    "        # 计算损失\n",
    "        loss = F.cross_entropy(output, target)\n",
    "        # 反向传播\n",
    "        loss.backward()\n",
    "        # 参数优化\n",
    "        optimizer.step()\n",
    "        if batch_index % 3000 == 0:\n",
    "            print(\"Train Epoch : {} \\t Loss : {:.6f}\".format(epoch, loss.item()))"
   ]
  },
  {
   "cell_type": "code",
   "execution_count": 10,
   "id": "1cd5f72d",
   "metadata": {},
   "outputs": [],
   "source": [
    "# 8 定义测试方法\n",
    "\n",
    "def test_model(model, device, test_loader):\n",
    "    # 模型验证\n",
    "    model.eval()\n",
    "    # 正确率\n",
    "    correct = 0.0\n",
    "    # 测试损失\n",
    "    test_loss = 0.0\n",
    "    # 不会进行计算梯度，也不会进行反向传播\n",
    "    with torch.no_grad():\n",
    "        for data, target in test_loader:\n",
    "            # 部署到device上\n",
    "            data, target = data.to(device), target.to(device)\n",
    "            # 测试数据\n",
    "            output = model(data)\n",
    "            # 计算损失\n",
    "            test_loss += F.cross_entropy(output, target).item()\n",
    "            # 找到概率值最大的下标\n",
    "            pred = output.max(1, keepdim=True)[1]\n",
    "            #pred = torch.max(output, dim=1)\n",
    "            # pred = output.argmax(dim=1)\n",
    "            # 累计正确的值\n",
    "            correct += pred.eq(target.view_as(pred)).sum().item()\n",
    "        # 计算平均loss\n",
    "        test_loss /= len(test_loader.dataset)\n",
    "        print(\"Test -- Average Loss : {:.4f}, Accuracy : {:.3f}\\n\".format(test_loss, correct/len(test_loader.dataset)*100.0))"
   ]
  },
  {
   "cell_type": "code",
   "execution_count": 11,
   "id": "5ac337b7",
   "metadata": {},
   "outputs": [
    {
     "name": "stdout",
     "output_type": "stream",
     "text": [
      "Train Epoch : 1 \t Loss : 2.314109\n",
      "Train Epoch : 1 \t Loss : 0.068412\n",
      "Test -- Average Loss : 0.0037, Accuracy : 98.060\n",
      "\n",
      "Train Epoch : 2 \t Loss : 0.004465\n",
      "Train Epoch : 2 \t Loss : 0.003524\n",
      "Test -- Average Loss : 0.0024, Accuracy : 98.790\n",
      "\n",
      "Train Epoch : 3 \t Loss : 0.000641\n",
      "Train Epoch : 3 \t Loss : 0.001293\n",
      "Test -- Average Loss : 0.0033, Accuracy : 98.510\n",
      "\n",
      "Train Epoch : 4 \t Loss : 0.025965\n",
      "Train Epoch : 4 \t Loss : 0.000029\n",
      "Test -- Average Loss : 0.0022, Accuracy : 98.950\n",
      "\n",
      "Train Epoch : 5 \t Loss : 0.000060\n",
      "Train Epoch : 5 \t Loss : 0.000000\n",
      "Test -- Average Loss : 0.0025, Accuracy : 98.900\n",
      "\n",
      "Train Epoch : 6 \t Loss : 0.000744\n",
      "Train Epoch : 6 \t Loss : 0.000051\n",
      "Test -- Average Loss : 0.0030, Accuracy : 98.760\n",
      "\n",
      "Train Epoch : 7 \t Loss : 0.001269\n",
      "Train Epoch : 7 \t Loss : 0.000147\n",
      "Test -- Average Loss : 0.0039, Accuracy : 98.780\n",
      "\n",
      "Train Epoch : 8 \t Loss : 0.000000\n",
      "Train Epoch : 8 \t Loss : 0.000000\n",
      "Test -- Average Loss : 0.0040, Accuracy : 98.780\n",
      "\n",
      "Train Epoch : 9 \t Loss : 0.030940\n",
      "Train Epoch : 9 \t Loss : 0.000017\n",
      "Test -- Average Loss : 0.0037, Accuracy : 99.050\n",
      "\n",
      "Train Epoch : 10 \t Loss : 0.000007\n",
      "Train Epoch : 10 \t Loss : 0.000099\n",
      "Test -- Average Loss : 0.0048, Accuracy : 98.940\n",
      "\n"
     ]
    }
   ],
   "source": [
    "# 9 调用方法(7和8)\n",
    "\n",
    "for epoch in range(1, EPOCHS+1):\n",
    "    train_model(model, DEVICE, train_loader, optimizer, epoch)\n",
    "    test_model(model, DEVICE, test_loader)"
   ]
  },
  {
   "cell_type": "code",
   "execution_count": null,
   "id": "067899e5",
   "metadata": {},
   "outputs": [],
   "source": []
  }
 ],
 "metadata": {
  "kernelspec": {
   "display_name": "Python 3 (ipykernel)",
   "language": "python",
   "name": "python3"
  },
  "language_info": {
   "codemirror_mode": {
    "name": "ipython",
    "version": 3
   },
   "file_extension": ".py",
   "mimetype": "text/x-python",
   "name": "python",
   "nbconvert_exporter": "python",
   "pygments_lexer": "ipython3",
   "version": "3.11.5"
  },
  "toc": {
   "base_numbering": 1,
   "nav_menu": {},
   "number_sections": true,
   "sideBar": true,
   "skip_h1_title": false,
   "title_cell": "Table of Contents",
   "title_sidebar": "Contents",
   "toc_cell": false,
   "toc_position": {},
   "toc_section_display": true,
   "toc_window_display": false
  }
 },
 "nbformat": 4,
 "nbformat_minor": 5
}
